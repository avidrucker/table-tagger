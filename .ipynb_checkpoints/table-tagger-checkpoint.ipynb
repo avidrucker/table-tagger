{
 "cells": [
  {
   "cell_type": "code",
   "execution_count": 1,
   "metadata": {},
   "outputs": [],
   "source": [
    "import pandas as pd"
   ]
  },
  {
   "cell_type": "code",
   "execution_count": 2,
   "metadata": {},
   "outputs": [],
   "source": [
    "# https://github.com/pandas-profiling/pandas-profiling\n",
    "# face-palm momemnt ... don't forget to import ;)\n",
    "import pandas_profiling"
   ]
  },
  {
   "cell_type": "markdown",
   "metadata": {},
   "source": [
    "# Make some dummy data into table / dataframe"
   ]
  },
  {
   "cell_type": "code",
   "execution_count": 2,
   "metadata": {},
   "outputs": [],
   "source": [
    "# https://www.sharpsightlabs.com/blog/pandas-dataframe/\n",
    "country_gdp_dict = {\n",
    "    'country':['USA', 'China', 'Japan', 'Germany', 'UK', 'India']\n",
    "    ,'GDP': [19390604, 12237700, 4872137, 3677439, 2622434, 2597491]\n",
    "}"
   ]
  },
  {
   "cell_type": "code",
   "execution_count": 3,
   "metadata": {},
   "outputs": [],
   "source": [
    "df = pd.DataFrame(country_gdp_dict)"
   ]
  },
  {
   "cell_type": "code",
   "execution_count": 4,
   "metadata": {},
   "outputs": [
    {
     "data": {
      "text/html": [
       "<div>\n",
       "<style scoped>\n",
       "    .dataframe tbody tr th:only-of-type {\n",
       "        vertical-align: middle;\n",
       "    }\n",
       "\n",
       "    .dataframe tbody tr th {\n",
       "        vertical-align: top;\n",
       "    }\n",
       "\n",
       "    .dataframe thead th {\n",
       "        text-align: right;\n",
       "    }\n",
       "</style>\n",
       "<table border=\"1\" class=\"dataframe\">\n",
       "  <thead>\n",
       "    <tr style=\"text-align: right;\">\n",
       "      <th></th>\n",
       "      <th>country</th>\n",
       "      <th>GDP</th>\n",
       "    </tr>\n",
       "  </thead>\n",
       "  <tbody>\n",
       "    <tr>\n",
       "      <th>0</th>\n",
       "      <td>USA</td>\n",
       "      <td>19390604</td>\n",
       "    </tr>\n",
       "    <tr>\n",
       "      <th>1</th>\n",
       "      <td>China</td>\n",
       "      <td>12237700</td>\n",
       "    </tr>\n",
       "    <tr>\n",
       "      <th>2</th>\n",
       "      <td>Japan</td>\n",
       "      <td>4872137</td>\n",
       "    </tr>\n",
       "    <tr>\n",
       "      <th>3</th>\n",
       "      <td>Germany</td>\n",
       "      <td>3677439</td>\n",
       "    </tr>\n",
       "    <tr>\n",
       "      <th>4</th>\n",
       "      <td>UK</td>\n",
       "      <td>2622434</td>\n",
       "    </tr>\n",
       "  </tbody>\n",
       "</table>\n",
       "</div>"
      ],
      "text/plain": [
       "   country       GDP\n",
       "0      USA  19390604\n",
       "1    China  12237700\n",
       "2    Japan   4872137\n",
       "3  Germany   3677439\n",
       "4       UK   2622434"
      ]
     },
     "execution_count": 4,
     "metadata": {},
     "output_type": "execute_result"
    }
   ],
   "source": [
    "df.head()"
   ]
  },
  {
   "cell_type": "markdown",
   "metadata": {},
   "source": [
    "~~Make a new column for dataframe X~~"
   ]
  },
  {
   "cell_type": "code",
   "execution_count": 5,
   "metadata": {},
   "outputs": [],
   "source": [
    "#https://stackoverflow.com/questions/16327055/how-to-add-an-empty-column-to-a-dataframe\n",
    "#df[\"been_there\"] = \"\""
   ]
  },
  {
   "cell_type": "code",
   "execution_count": 6,
   "metadata": {},
   "outputs": [],
   "source": [
    "#df.head()"
   ]
  },
  {
   "cell_type": "markdown",
   "metadata": {},
   "source": [
    "# Make target column Y in dataframe X into a list to iterate over"
   ]
  },
  {
   "cell_type": "code",
   "execution_count": 7,
   "metadata": {},
   "outputs": [
    {
     "data": {
      "text/plain": [
       "['USA', 'China', 'Japan', 'Germany', 'UK', 'India']"
      ]
     },
     "execution_count": 7,
     "metadata": {},
     "output_type": "execute_result"
    }
   ],
   "source": [
    "# https://stackoverflow.com/questions/23748995/pandas-dataframe-column-to-list\n",
    "# https://stackoverflow.com/questions/22341271/get-list-from-pandas-dataframe-column?noredirect=1&lq=1\n",
    "countries = df['country'].values.tolist()\n",
    "countries"
   ]
  },
  {
   "cell_type": "markdown",
   "metadata": {},
   "source": [
    "# Create question & answer function to query user per item"
   ]
  },
  {
   "cell_type": "code",
   "execution_count": 8,
   "metadata": {},
   "outputs": [],
   "source": [
    "# question text\n",
    "# acceptable answers list (in only lower case)\n",
    "def question_user_for_input(question, acceptable_ans):\n",
    "    user_answer = \"\"\n",
    "    asking = True\n",
    "    while asking:\n",
    "        user_answer = input(question)\n",
    "        # https://www.tutorialspoint.com/python/string_lower.htm\n",
    "        if str.lower(user_answer) in acceptable_ans:\n",
    "            asking = False\n",
    "        else:\n",
    "            print(\"Please answer using the correct format:\")\n",
    "            print(acceptable_ans)\n",
    "    return user_answer"
   ]
  },
  {
   "cell_type": "code",
   "execution_count": 9,
   "metadata": {},
   "outputs": [
    {
     "name": "stdout",
     "output_type": "stream",
     "text": [
      "Do you like sushi? cheese\n",
      "Please answer using the correct format:\n",
      "['yes', 'no']\n",
      "Do you like sushi? n\n",
      "Please answer using the correct format:\n",
      "['yes', 'no']\n",
      "Do you like sushi? yes\n",
      "yes\n"
     ]
    }
   ],
   "source": [
    "print(question_user_for_input(\"Do you like sushi? \",['yes','no']))"
   ]
  },
  {
   "cell_type": "markdown",
   "metadata": {},
   "source": [
    "# Use list comprehension & your new function to create a new list from the old"
   ]
  },
  {
   "cell_type": "code",
   "execution_count": 10,
   "metadata": {},
   "outputs": [
    {
     "name": "stdout",
     "output_type": "stream",
     "text": [
      "Have you been to USA? yes\n",
      "Have you been to China? yes\n",
      "Have you been to Japan? yes\n",
      "Have you been to Germany? no\n",
      "Have you been to UK? no\n",
      "Have you been to India? yes\n"
     ]
    }
   ],
   "source": [
    "# https://stackoverflow.com/questions/10834960/how-to-do-multiple-arguments-to-map-function-where-one-remains-the-same-in-pytho\n",
    "been_there_query = [question_user_for_input(\"Have you been to \" + x + \"? \",['yes','no']) for x in countries]"
   ]
  },
  {
   "cell_type": "code",
   "execution_count": 11,
   "metadata": {},
   "outputs": [
    {
     "data": {
      "text/plain": [
       "['yes', 'yes', 'yes', 'no', 'no', 'yes']"
      ]
     },
     "execution_count": 11,
     "metadata": {},
     "output_type": "execute_result"
    }
   ],
   "source": [
    "been_there_query"
   ]
  },
  {
   "cell_type": "markdown",
   "metadata": {},
   "source": [
    "# Add list to dataframe X as new column Y"
   ]
  },
  {
   "cell_type": "code",
   "execution_count": 12,
   "metadata": {},
   "outputs": [],
   "source": [
    "# searched: add list to dataframe as new column\n",
    "# Add column in dataframe from list\n",
    "# https://stackoverflow.com/questions/26666919/add-column-in-dataframe-from-list\n",
    "df['been_there'] = been_there_query"
   ]
  },
  {
   "cell_type": "code",
   "execution_count": 13,
   "metadata": {
    "scrolled": true
   },
   "outputs": [
    {
     "data": {
      "text/html": [
       "<div>\n",
       "<style scoped>\n",
       "    .dataframe tbody tr th:only-of-type {\n",
       "        vertical-align: middle;\n",
       "    }\n",
       "\n",
       "    .dataframe tbody tr th {\n",
       "        vertical-align: top;\n",
       "    }\n",
       "\n",
       "    .dataframe thead th {\n",
       "        text-align: right;\n",
       "    }\n",
       "</style>\n",
       "<table border=\"1\" class=\"dataframe\">\n",
       "  <thead>\n",
       "    <tr style=\"text-align: right;\">\n",
       "      <th></th>\n",
       "      <th>country</th>\n",
       "      <th>GDP</th>\n",
       "      <th>been_there</th>\n",
       "    </tr>\n",
       "  </thead>\n",
       "  <tbody>\n",
       "    <tr>\n",
       "      <th>0</th>\n",
       "      <td>USA</td>\n",
       "      <td>19390604</td>\n",
       "      <td>yes</td>\n",
       "    </tr>\n",
       "    <tr>\n",
       "      <th>1</th>\n",
       "      <td>China</td>\n",
       "      <td>12237700</td>\n",
       "      <td>yes</td>\n",
       "    </tr>\n",
       "    <tr>\n",
       "      <th>2</th>\n",
       "      <td>Japan</td>\n",
       "      <td>4872137</td>\n",
       "      <td>yes</td>\n",
       "    </tr>\n",
       "    <tr>\n",
       "      <th>3</th>\n",
       "      <td>Germany</td>\n",
       "      <td>3677439</td>\n",
       "      <td>no</td>\n",
       "    </tr>\n",
       "    <tr>\n",
       "      <th>4</th>\n",
       "      <td>UK</td>\n",
       "      <td>2622434</td>\n",
       "      <td>no</td>\n",
       "    </tr>\n",
       "  </tbody>\n",
       "</table>\n",
       "</div>"
      ],
      "text/plain": [
       "   country       GDP been_there\n",
       "0      USA  19390604        yes\n",
       "1    China  12237700        yes\n",
       "2    Japan   4872137        yes\n",
       "3  Germany   3677439         no\n",
       "4       UK   2622434         no"
      ]
     },
     "execution_count": 13,
     "metadata": {},
     "output_type": "execute_result"
    }
   ],
   "source": [
    "df.head()"
   ]
  },
  {
   "cell_type": "markdown",
   "metadata": {},
   "source": [
    "# Compose the above functionality into a function"
   ]
  },
  {
   "cell_type": "code",
   "execution_count": 14,
   "metadata": {},
   "outputs": [],
   "source": [
    "# ['yes','no']\n",
    "def update_df_with_set_answer_q(df_in, q_func, q_text, ans_list, tar_col, new_col):\n",
    "    #1. take in the source df\n",
    "    #2. take in a query func, query text, target column name (that will be made into a list)\n",
    "    #3. combine resulting list of query with source_df & return it as the new df\n",
    "    new_list = df_in[tar_col].values.tolist()\n",
    "    in_query = [q_func(q_text + x + \": \",ans_list) for x in new_list]\n",
    "    df_out = df_in.copy()\n",
    "    df_out[new_col] = in_query\n",
    "    return df_out"
   ]
  },
  {
   "cell_type": "code",
   "execution_count": 15,
   "metadata": {},
   "outputs": [
    {
     "name": "stdout",
     "output_type": "stream",
     "text": [
      "Does this country primarily use the latin alphabet? USA: yes\n",
      "Does this country primarily use the latin alphabet? China: no\n",
      "Does this country primarily use the latin alphabet? Japan: no\n",
      "Does this country primarily use the latin alphabet? Germany: eys\n",
      "Please answer using the correct format:\n",
      "['yes', 'no']\n",
      "Does this country primarily use the latin alphabet? Germany: yes\n",
      "Does this country primarily use the latin alphabet? UK: yes\n",
      "Does this country primarily use the latin alphabet? India: yes\n"
     ]
    }
   ],
   "source": [
    "# let's test the function above\n",
    "df_2 = update_df_with_set_answer_q(df, \n",
    "                    question_user_for_input, \n",
    "                    \"Does this country primarily use the latin alphabet? \",\n",
    "                    ['yes','no'],\n",
    "                    \"country\",\n",
    "                    \"latin_alphabet_main\"\n",
    "                   )"
   ]
  },
  {
   "cell_type": "code",
   "execution_count": 16,
   "metadata": {},
   "outputs": [
    {
     "data": {
      "text/html": [
       "<div>\n",
       "<style scoped>\n",
       "    .dataframe tbody tr th:only-of-type {\n",
       "        vertical-align: middle;\n",
       "    }\n",
       "\n",
       "    .dataframe tbody tr th {\n",
       "        vertical-align: top;\n",
       "    }\n",
       "\n",
       "    .dataframe thead th {\n",
       "        text-align: right;\n",
       "    }\n",
       "</style>\n",
       "<table border=\"1\" class=\"dataframe\">\n",
       "  <thead>\n",
       "    <tr style=\"text-align: right;\">\n",
       "      <th></th>\n",
       "      <th>country</th>\n",
       "      <th>GDP</th>\n",
       "      <th>been_there</th>\n",
       "      <th>latin_alphabet_main</th>\n",
       "    </tr>\n",
       "  </thead>\n",
       "  <tbody>\n",
       "    <tr>\n",
       "      <th>0</th>\n",
       "      <td>USA</td>\n",
       "      <td>19390604</td>\n",
       "      <td>yes</td>\n",
       "      <td>yes</td>\n",
       "    </tr>\n",
       "    <tr>\n",
       "      <th>1</th>\n",
       "      <td>China</td>\n",
       "      <td>12237700</td>\n",
       "      <td>yes</td>\n",
       "      <td>no</td>\n",
       "    </tr>\n",
       "    <tr>\n",
       "      <th>2</th>\n",
       "      <td>Japan</td>\n",
       "      <td>4872137</td>\n",
       "      <td>yes</td>\n",
       "      <td>no</td>\n",
       "    </tr>\n",
       "    <tr>\n",
       "      <th>3</th>\n",
       "      <td>Germany</td>\n",
       "      <td>3677439</td>\n",
       "      <td>no</td>\n",
       "      <td>yes</td>\n",
       "    </tr>\n",
       "    <tr>\n",
       "      <th>4</th>\n",
       "      <td>UK</td>\n",
       "      <td>2622434</td>\n",
       "      <td>no</td>\n",
       "      <td>yes</td>\n",
       "    </tr>\n",
       "  </tbody>\n",
       "</table>\n",
       "</div>"
      ],
      "text/plain": [
       "   country       GDP been_there latin_alphabet_main\n",
       "0      USA  19390604        yes                 yes\n",
       "1    China  12237700        yes                  no\n",
       "2    Japan   4872137        yes                  no\n",
       "3  Germany   3677439         no                 yes\n",
       "4       UK   2622434         no                 yes"
      ]
     },
     "execution_count": 16,
     "metadata": {},
     "output_type": "execute_result"
    }
   ],
   "source": [
    "df_2.head()"
   ]
  },
  {
   "cell_type": "markdown",
   "metadata": {},
   "source": [
    "# Create meta-data (tag) column dynamically"
   ]
  },
  {
   "cell_type": "code",
   "execution_count": 17,
   "metadata": {},
   "outputs": [],
   "source": [
    "# open-ended feedback / question text\n",
    "def ask_user_for_feedback(prompt):\n",
    "    return input(prompt + \" \")"
   ]
  },
  {
   "cell_type": "code",
   "execution_count": 18,
   "metadata": {},
   "outputs": [],
   "source": [
    "# ['yes','no']\n",
    "def update_df_with_open_answer_q(df_in, q_func, q_text, tar_col, new_col):\n",
    "    #1. take in the source df\n",
    "    #2. take in a query func, query text, target column name (that will be made into a list)\n",
    "    #3. combine resulting list of query with source_df & return it as the new df\n",
    "    new_list = df_in[tar_col].values.tolist()\n",
    "    in_query = [q_func(q_text + x + \": \") for x in new_list]\n",
    "    df_out = df_in.copy()\n",
    "    df_out[new_col] = in_query\n",
    "    return df_out"
   ]
  },
  {
   "cell_type": "code",
   "execution_count": 19,
   "metadata": {},
   "outputs": [
    {
     "name": "stdout",
     "output_type": "stream",
     "text": [
      "Write some keywords to describe this country: USA:  blah blah blah\n",
      "Write some keywords to describe this country: China:  cheese\n",
      "Write some keywords to describe this country: Japan:  banana\n",
      "Write some keywords to describe this country: Germany:  frog\n",
      "Write some keywords to describe this country: UK:  tree\n",
      "Write some keywords to describe this country: India:  rabbit\n"
     ]
    }
   ],
   "source": [
    "df_3 = update_df_with_open_answer_q(df_2, \n",
    "                                    ask_user_for_feedback, \n",
    "                                    \"Write some keywords to describe this country: \",\n",
    "                                    \"country\",\n",
    "                                    \"keywords\")"
   ]
  },
  {
   "cell_type": "code",
   "execution_count": 20,
   "metadata": {},
   "outputs": [
    {
     "data": {
      "text/html": [
       "<div>\n",
       "<style scoped>\n",
       "    .dataframe tbody tr th:only-of-type {\n",
       "        vertical-align: middle;\n",
       "    }\n",
       "\n",
       "    .dataframe tbody tr th {\n",
       "        vertical-align: top;\n",
       "    }\n",
       "\n",
       "    .dataframe thead th {\n",
       "        text-align: right;\n",
       "    }\n",
       "</style>\n",
       "<table border=\"1\" class=\"dataframe\">\n",
       "  <thead>\n",
       "    <tr style=\"text-align: right;\">\n",
       "      <th></th>\n",
       "      <th>country</th>\n",
       "      <th>GDP</th>\n",
       "      <th>been_there</th>\n",
       "      <th>latin_alphabet_main</th>\n",
       "      <th>keywords</th>\n",
       "    </tr>\n",
       "  </thead>\n",
       "  <tbody>\n",
       "    <tr>\n",
       "      <th>0</th>\n",
       "      <td>USA</td>\n",
       "      <td>19390604</td>\n",
       "      <td>yes</td>\n",
       "      <td>yes</td>\n",
       "      <td>blah blah blah</td>\n",
       "    </tr>\n",
       "    <tr>\n",
       "      <th>1</th>\n",
       "      <td>China</td>\n",
       "      <td>12237700</td>\n",
       "      <td>yes</td>\n",
       "      <td>no</td>\n",
       "      <td>cheese</td>\n",
       "    </tr>\n",
       "    <tr>\n",
       "      <th>2</th>\n",
       "      <td>Japan</td>\n",
       "      <td>4872137</td>\n",
       "      <td>yes</td>\n",
       "      <td>no</td>\n",
       "      <td>banana</td>\n",
       "    </tr>\n",
       "    <tr>\n",
       "      <th>3</th>\n",
       "      <td>Germany</td>\n",
       "      <td>3677439</td>\n",
       "      <td>no</td>\n",
       "      <td>yes</td>\n",
       "      <td>frog</td>\n",
       "    </tr>\n",
       "    <tr>\n",
       "      <th>4</th>\n",
       "      <td>UK</td>\n",
       "      <td>2622434</td>\n",
       "      <td>no</td>\n",
       "      <td>yes</td>\n",
       "      <td>tree</td>\n",
       "    </tr>\n",
       "    <tr>\n",
       "      <th>5</th>\n",
       "      <td>India</td>\n",
       "      <td>2597491</td>\n",
       "      <td>yes</td>\n",
       "      <td>yes</td>\n",
       "      <td>rabbit</td>\n",
       "    </tr>\n",
       "  </tbody>\n",
       "</table>\n",
       "</div>"
      ],
      "text/plain": [
       "   country       GDP been_there latin_alphabet_main        keywords\n",
       "0      USA  19390604        yes                 yes  blah blah blah\n",
       "1    China  12237700        yes                  no          cheese\n",
       "2    Japan   4872137        yes                  no          banana\n",
       "3  Germany   3677439         no                 yes            frog\n",
       "4       UK   2622434         no                 yes            tree\n",
       "5    India   2597491        yes                 yes          rabbit"
      ]
     },
     "execution_count": 20,
     "metadata": {},
     "output_type": "execute_result"
    }
   ],
   "source": [
    "df_3.head(6)"
   ]
  },
  {
   "cell_type": "markdown",
   "metadata": {},
   "source": [
    "# Export dataframe as CSV for future work"
   ]
  },
  {
   "cell_type": "code",
   "execution_count": 22,
   "metadata": {},
   "outputs": [],
   "source": [
    "# https://chrisalbon.com/python/data_wrangling/pandas_saving_dataframe_as_csv/\n",
    "####df_3.to_csv('example.csv')"
   ]
  },
  {
   "cell_type": "code",
   "execution_count": 3,
   "metadata": {},
   "outputs": [
    {
     "data": {
      "text/html": [
       "<div>\n",
       "<style scoped>\n",
       "    .dataframe tbody tr th:only-of-type {\n",
       "        vertical-align: middle;\n",
       "    }\n",
       "\n",
       "    .dataframe tbody tr th {\n",
       "        vertical-align: top;\n",
       "    }\n",
       "\n",
       "    .dataframe thead th {\n",
       "        text-align: right;\n",
       "    }\n",
       "</style>\n",
       "<table border=\"1\" class=\"dataframe\">\n",
       "  <thead>\n",
       "    <tr style=\"text-align: right;\">\n",
       "      <th></th>\n",
       "      <th>country</th>\n",
       "      <th>GDP</th>\n",
       "      <th>been_there</th>\n",
       "      <th>latin_alphabet_main</th>\n",
       "      <th>keywords</th>\n",
       "    </tr>\n",
       "  </thead>\n",
       "  <tbody>\n",
       "    <tr>\n",
       "      <th>0</th>\n",
       "      <td>USA</td>\n",
       "      <td>19390604</td>\n",
       "      <td>yes</td>\n",
       "      <td>yes</td>\n",
       "      <td>free casual competitive</td>\n",
       "    </tr>\n",
       "    <tr>\n",
       "      <th>1</th>\n",
       "      <td>China</td>\n",
       "      <td>12237700</td>\n",
       "      <td>yes</td>\n",
       "      <td>no</td>\n",
       "      <td>huge diverse oppressive formal</td>\n",
       "    </tr>\n",
       "    <tr>\n",
       "      <th>2</th>\n",
       "      <td>Japan</td>\n",
       "      <td>4872137</td>\n",
       "      <td>yes</td>\n",
       "      <td>no</td>\n",
       "      <td>formal quiet clean timely</td>\n",
       "    </tr>\n",
       "    <tr>\n",
       "      <th>3</th>\n",
       "      <td>Germany</td>\n",
       "      <td>3677439</td>\n",
       "      <td>no</td>\n",
       "      <td>yes</td>\n",
       "      <td>timely prosperous dark humble</td>\n",
       "    </tr>\n",
       "    <tr>\n",
       "      <th>4</th>\n",
       "      <td>UK</td>\n",
       "      <td>2622434</td>\n",
       "      <td>no</td>\n",
       "      <td>yes</td>\n",
       "      <td>subtle independent proud</td>\n",
       "    </tr>\n",
       "    <tr>\n",
       "      <th>5</th>\n",
       "      <td>India</td>\n",
       "      <td>2597491</td>\n",
       "      <td>yes</td>\n",
       "      <td>yes</td>\n",
       "      <td>industrious dirty huge competitive</td>\n",
       "    </tr>\n",
       "  </tbody>\n",
       "</table>\n",
       "</div>"
      ],
      "text/plain": [
       "   country       GDP been_there latin_alphabet_main  \\\n",
       "0      USA  19390604        yes                 yes   \n",
       "1    China  12237700        yes                  no   \n",
       "2    Japan   4872137        yes                  no   \n",
       "3  Germany   3677439         no                 yes   \n",
       "4       UK   2622434         no                 yes   \n",
       "5    India   2597491        yes                 yes   \n",
       "\n",
       "                             keywords  \n",
       "0             free casual competitive  \n",
       "1      huge diverse oppressive formal  \n",
       "2           formal quiet clean timely  \n",
       "3       timely prosperous dark humble  \n",
       "4            subtle independent proud  \n",
       "5  industrious dirty huge competitive  "
      ]
     },
     "execution_count": 3,
     "metadata": {},
     "output_type": "execute_result"
    }
   ],
   "source": [
    "# https://chrisalbon.com/python/data_wrangling/pandas_dataframe_importing_csv/\n",
    "df_3_test = pd.read_csv('example.csv')\n",
    "df_3_test = df_3_test.drop([\"Unnamed: 0\"], axis=1)\n",
    "df_3_test.head(6)"
   ]
  },
  {
   "cell_type": "markdown",
   "metadata": {},
   "source": [
    "# Extract insights into keywords to normalize data\n",
    "- freedom of expression\n",
    "- politeness level\n",
    "- competitiveness\n",
    "- cleanliness\n",
    "- punctuality\n",
    "- explicitness of communication\n",
    "- size of population"
   ]
  },
  {
   "cell_type": "markdown",
   "metadata": {},
   "source": [
    "By the way: Did you know that \"IIUC\", in Internet slang, stands for \"If I understand correctly\" ?"
   ]
  },
  {
   "cell_type": "code",
   "execution_count": 4,
   "metadata": {},
   "outputs": [],
   "source": [
    "#https://github.com/pandas-profiling/pandas-profiling\n",
    "#conda install -c conda-forge pandas-profiling\n",
    "#!pip install --user pandas-profiling"
   ]
  },
  {
   "cell_type": "code",
   "execution_count": 5,
   "metadata": {},
   "outputs": [],
   "source": [
    "#### toggle between df_3_test and df_3 for live demo vs production\n",
    "profile = df_3_test.profile_report(title='Pandas Profiling Report')\n",
    "profile.to_file(output_file=\"output.html\")"
   ]
  },
  {
   "cell_type": "markdown",
   "metadata": {},
   "source": [
    "# todo: Create \"add keywords to entry\" function\n",
    "- print entire entry to console\n",
    "- take in keywords input from user\n",
    "- append keywords input to keywords field (col) in entry (row)\n",
    "- add new keywords to corpus with associated map key:value pair"
   ]
  },
  {
   "cell_type": "markdown",
   "metadata": {},
   "source": [
    "# todo: Create \"tag text\" to \"tag dict\"\n",
    "example: `\"clean homogeneous\" --> { \"cleanliness\" : 1, \"diverse\": -1 }`\n",
    "\n",
    "This will be a two step process:\n",
    "1. ~~iterate over all the tags to create a meta-data/tag corpus~~\n",
    "2. ~~assign to each tag a value & associated key~~"
   ]
  },
  {
   "cell_type": "code",
   "execution_count": 16,
   "metadata": {},
   "outputs": [],
   "source": [
    "tag_texts = df_3_test['keywords'].values.tolist()"
   ]
  },
  {
   "cell_type": "code",
   "execution_count": 17,
   "metadata": {},
   "outputs": [],
   "source": [
    "def build_tag_corpus(list_in):\n",
    "    corpus_out = {}\n",
    "    for x in list_in:\n",
    "        for y in x.split():\n",
    "            if y not in corpus_out:\n",
    "                corpus_out[y] = 1\n",
    "            else:\n",
    "                corpus_out[y] += 1\n",
    "    return corpus_out"
   ]
  },
  {
   "cell_type": "code",
   "execution_count": 19,
   "metadata": {},
   "outputs": [
    {
     "name": "stdout",
     "output_type": "stream",
     "text": [
      "corpus: {'free': 1, 'casual': 1, 'competitive': 2, 'huge': 2, 'diverse': 1, 'oppressive': 1, 'formal': 2, 'quiet': 1, 'clean': 1, 'timely': 2, 'prosperous': 1, 'dark': 1, 'humble': 1, 'subtle': 1, 'independent': 1, 'proud': 1, 'industrious': 1, 'dirty': 1}\n"
     ]
    }
   ],
   "source": [
    "# note: this may also be useful as a frequency generator\n",
    "corpus = build_tag_corpus(tag_texts)\n",
    "print(\"corpus:\",corpus)"
   ]
  },
  {
   "cell_type": "code",
   "execution_count": 26,
   "metadata": {},
   "outputs": [],
   "source": [
    "def build_tag_map_from_corpus(map_in):\n",
    "    map_out = {}\n",
    "    for k in map_in.keys():\n",
    "        new_main_key = input(f'Please enter categorical tag for \\'{k}\\': ')\n",
    "        new_val = int(input(f'Please enter numerical scalar for tag \\'{k}\\': '))\n",
    "        if new_main_key not in map_out:\n",
    "            map_out[new_main_key] = {k : new_val}\n",
    "        else:\n",
    "            map_out[new_main_key][k] = new_val\n",
    "    return map_out"
   ]
  },
  {
   "cell_type": "code",
   "execution_count": 27,
   "metadata": {},
   "outputs": [
    {
     "name": "stdout",
     "output_type": "stream",
     "text": [
      "Please enter categorical tag for 'free': freedom\n",
      "Please enter numerical scalar for tag 'free': 1\n",
      "Please enter categorical tag for 'casual': politeness\n",
      "Please enter numerical scalar for tag 'casual': -1\n",
      "Please enter categorical tag for 'competitive': competitiveness\n",
      "Please enter numerical scalar for tag 'competitive': 1\n",
      "Please enter categorical tag for 'huge': pop_size\n",
      "Please enter numerical scalar for tag 'huge': 1\n",
      "Please enter categorical tag for 'diverse': diversity\n",
      "Please enter numerical scalar for tag 'diverse': 1\n",
      "Please enter categorical tag for 'oppressive': freedom\n",
      "Please enter numerical scalar for tag 'oppressive': -1\n",
      "Please enter categorical tag for 'formal': politeness\n",
      "Please enter numerical scalar for tag 'formal': 1\n",
      "Please enter categorical tag for 'quiet': noisiness\n",
      "Please enter numerical scalar for tag 'quiet': -1\n",
      "Please enter categorical tag for 'clean': cleanliness\n",
      "Please enter numerical scalar for tag 'clean': 1\n",
      "Please enter categorical tag for 'timely': punctuality\n",
      "Please enter numerical scalar for tag 'timely': 1\n",
      "Please enter categorical tag for 'prosperous': prosperity\n",
      "Please enter numerical scalar for tag 'prosperous': 1\n",
      "Please enter categorical tag for 'dark': dark_history\n",
      "Please enter numerical scalar for tag 'dark': 1\n",
      "Please enter categorical tag for 'humble': humility\n",
      "Please enter numerical scalar for tag 'humble': 1\n",
      "Please enter categorical tag for 'subtle': subtlety\n",
      "Please enter numerical scalar for tag 'subtle': 1\n",
      "Please enter categorical tag for 'independent': independency\n",
      "Please enter numerical scalar for tag 'independent': 1\n",
      "Please enter categorical tag for 'proud': humility\n",
      "Please enter numerical scalar for tag 'proud': -1\n",
      "Please enter categorical tag for 'industrious': industriousness\n",
      "Please enter numerical scalar for tag 'industrious': 1\n",
      "Please enter categorical tag for 'dirty': cleanliness\n",
      "Please enter numerical scalar for tag 'dirty': -1\n",
      "{'freedom': {'free': 1, 'oppressive': -1}, 'politeness': {'casual': -1, 'formal': 1}, 'competitiveness': {'competitive': 1}, 'pop_size': {'huge': 1}, 'diversity': {'diverse': 1}, 'noisiness': {'quiet': -1}, 'cleanliness': {'clean': 1, 'dirty': -1}, 'punctuality': {'timely': 1}, 'prosperity': {'prosperous': 1}, 'dark_history': {'dark': 1}, 'humility': {'humble': 1, 'proud': -1}, 'subtlety': {'subtle': 1}, 'independency': {'independent': 1}, 'industriousness': {'industrious': 1}}\n"
     ]
    }
   ],
   "source": [
    "#### uncomment to re-run corpus generation\n",
    "#coded_corpus = build_tag_map_from_corpus(corpus)"
   ]
  },
  {
   "cell_type": "code",
   "execution_count": 28,
   "metadata": {},
   "outputs": [
    {
     "name": "stdout",
     "output_type": "stream",
     "text": [
      "{'freedom': {'free': 1, 'oppressive': -1}, 'politeness': {'casual': -1, 'formal': 1}, 'competitiveness': {'competitive': 1}, 'pop_size': {'huge': 1}, 'diversity': {'diverse': 1}, 'noisiness': {'quiet': -1}, 'cleanliness': {'clean': 1, 'dirty': -1}, 'punctuality': {'timely': 1}, 'prosperity': {'prosperous': 1}, 'dark_history': {'dark': 1}, 'humility': {'humble': 1, 'proud': -1}, 'subtlety': {'subtle': 1}, 'independency': {'independent': 1}, 'industriousness': {'industrious': 1}}\n"
     ]
    }
   ],
   "source": [
    "print(coded_corpus)"
   ]
  },
  {
   "cell_type": "markdown",
   "metadata": {},
   "source": [
    "# todo: Create column from tag text with key value map corpus\n",
    "with scale from -1 (negative) to 1 (positive), with 0 (neutral) and NaN also options\n",
    "\n",
    "Now that we have a coded corpus, we can go ahead and create new columns for the dataframe using the overarching meta-tags (instead of 'casual' and 'formal' we can simply use 'politeness' with values of -1 or 1"
   ]
  },
  {
   "cell_type": "code",
   "execution_count": null,
   "metadata": {},
   "outputs": [],
   "source": []
  }
 ],
 "metadata": {
  "kernelspec": {
   "display_name": "Python 3",
   "language": "python",
   "name": "python3"
  },
  "language_info": {
   "codemirror_mode": {
    "name": "ipython",
    "version": 3
   },
   "file_extension": ".py",
   "mimetype": "text/x-python",
   "name": "python",
   "nbconvert_exporter": "python",
   "pygments_lexer": "ipython3",
   "version": "3.7.1"
  }
 },
 "nbformat": 4,
 "nbformat_minor": 2
}
